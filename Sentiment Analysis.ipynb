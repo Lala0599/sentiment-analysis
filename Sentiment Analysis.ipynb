{
 "cells": [
  {
   "cell_type": "code",
   "execution_count": 2,
   "metadata": {},
   "outputs": [],
   "source": [
    "#scraping the first 5 pages, sample(40 reviews).\n",
    "import scrapy\n",
    "\n",
    "\n",
    "class AmazonreviewsSpider(scrapy.Spider):\n",
    "    name = 'amazonreviews'\n",
    "    myBaseUrl = 'https://www.amazon.com/product-reviews/B01IO1VPYG/ref=cm_cr_arp_d_viewopt_sr?pageNumber='\n",
    "    start_urls = []\n",
    "\n",
    "    # Creating list of urls to be scraped by appending page number a the end of base url\n",
    "    for i in range(1,5):\n",
    "        start_urls.append(myBaseUrl+str(i))    \n",
    "\n",
    "    def parse(self, response):\n",
    "        data = response.css('#cm_cr-review_list')\n",
    "\n",
    "        # Collecting product star ratings\n",
    "        star_rating = data.css('.review-rating')\n",
    "\n",
    "        # Collecting user reviews\n",
    "        comments = data.css('.review-text')\n",
    "        count = 0\n",
    "\n",
    "        # Combining the results\n",
    "        for review in star_rating:\n",
    "            yield{'stars': ''.join(review.xpath('.//text()').extract()),\n",
    "                  'comment': ''.join(comments[count].xpath(\".//text()\").extract())\n",
    "                 }\n",
    "            count=count+1\n"
   ]
  },
  {
   "cell_type": "code",
   "execution_count": 3,
   "metadata": {},
   "outputs": [],
   "source": [
    "import pandas as pd\n",
    "import numpy as np"
   ]
  },
  {
   "cell_type": "code",
   "execution_count": 4,
   "metadata": {},
   "outputs": [],
   "source": [
    "df= pd.read_csv('amazonreviews.csv')"
   ]
  },
  {
   "cell_type": "code",
   "execution_count": 6,
   "metadata": {},
   "outputs": [
    {
     "data": {
      "text/html": [
       "<div>\n",
       "<style scoped>\n",
       "    .dataframe tbody tr th:only-of-type {\n",
       "        vertical-align: middle;\n",
       "    }\n",
       "\n",
       "    .dataframe tbody tr th {\n",
       "        vertical-align: top;\n",
       "    }\n",
       "\n",
       "    .dataframe thead th {\n",
       "        text-align: right;\n",
       "    }\n",
       "</style>\n",
       "<table border=\"1\" class=\"dataframe\">\n",
       "  <thead>\n",
       "    <tr style=\"text-align: right;\">\n",
       "      <th></th>\n",
       "      <th>stars</th>\n",
       "      <th>comment</th>\n",
       "    </tr>\n",
       "  </thead>\n",
       "  <tbody>\n",
       "    <tr>\n",
       "      <td>0</td>\n",
       "      <td>2.0 out of 5 stars</td>\n",
       "      <td>\\n\\n\\n\\n\\n\\n\\n\\n\\n\\n  \\n  \\n    \\n  Cheap part...</td>\n",
       "    </tr>\n",
       "    <tr>\n",
       "      <td>1</td>\n",
       "      <td>1.0 out of 5 stars</td>\n",
       "      <td>\\n\\n\\n\\n\\n\\n\\n\\n\\n\\n  \\n  \\n    \\n  I'm sure i...</td>\n",
       "    </tr>\n",
       "    <tr>\n",
       "      <td>2</td>\n",
       "      <td>5.0 out of 5 stars</td>\n",
       "      <td>\\n\\n\\n\\n\\n\\n\\n\\n\\n\\n  \\n  \\n    \\n  I got this...</td>\n",
       "    </tr>\n",
       "    <tr>\n",
       "      <td>3</td>\n",
       "      <td>1.0 out of 5 stars</td>\n",
       "      <td>\\n\\n\\n\\n\\n\\n\\n\\n\\n\\n  \\n  \\n    \\n  My nephew ...</td>\n",
       "    </tr>\n",
       "    <tr>\n",
       "      <td>4</td>\n",
       "      <td>5.0 out of 5 stars</td>\n",
       "      <td>\\n\\n\\n\\n\\n\\n\\n\\n\\n\\n  \\n  \\n    \\n  I bought t...</td>\n",
       "    </tr>\n",
       "    <tr>\n",
       "      <td>5</td>\n",
       "      <td>1.0 out of 5 stars</td>\n",
       "      <td>\\n\\n\\n\\n\\n\\n\\n\\n\\n\\n  \\n  \\n    \\n  I have ord...</td>\n",
       "    </tr>\n",
       "    <tr>\n",
       "      <td>6</td>\n",
       "      <td>1.0 out of 5 stars</td>\n",
       "      <td>\\n\\n\\n\\n\\n\\n\\n\\n\\n\\n  \\n  \\n    \\n  Received a...</td>\n",
       "    </tr>\n",
       "    <tr>\n",
       "      <td>7</td>\n",
       "      <td>4.0 out of 5 stars</td>\n",
       "      <td>\\n\\n\\n\\n\\n\\n\\n\\n\\n\\n  \\n  \\n    \\n  Great litt...</td>\n",
       "    </tr>\n",
       "    <tr>\n",
       "      <td>8</td>\n",
       "      <td>5.0 out of 5 stars</td>\n",
       "      <td>\\n\\n\\n\\n\\n\\n\\n\\n\\n\\n  \\n  \\n    \\n  Thank you!...</td>\n",
       "    </tr>\n",
       "    <tr>\n",
       "      <td>9</td>\n",
       "      <td>5.0 out of 5 stars</td>\n",
       "      <td>\\n\\n\\n\\n\\n\\n\\n\\n\\n\\n  \\n  \\n    \\n  Perfect! W...</td>\n",
       "    </tr>\n",
       "  </tbody>\n",
       "</table>\n",
       "</div>"
      ],
      "text/plain": [
       "                stars                                            comment\n",
       "0  2.0 out of 5 stars  \\n\\n\\n\\n\\n\\n\\n\\n\\n\\n  \\n  \\n    \\n  Cheap part...\n",
       "1  1.0 out of 5 stars  \\n\\n\\n\\n\\n\\n\\n\\n\\n\\n  \\n  \\n    \\n  I'm sure i...\n",
       "2  5.0 out of 5 stars  \\n\\n\\n\\n\\n\\n\\n\\n\\n\\n  \\n  \\n    \\n  I got this...\n",
       "3  1.0 out of 5 stars  \\n\\n\\n\\n\\n\\n\\n\\n\\n\\n  \\n  \\n    \\n  My nephew ...\n",
       "4  5.0 out of 5 stars  \\n\\n\\n\\n\\n\\n\\n\\n\\n\\n  \\n  \\n    \\n  I bought t...\n",
       "5  1.0 out of 5 stars  \\n\\n\\n\\n\\n\\n\\n\\n\\n\\n  \\n  \\n    \\n  I have ord...\n",
       "6  1.0 out of 5 stars  \\n\\n\\n\\n\\n\\n\\n\\n\\n\\n  \\n  \\n    \\n  Received a...\n",
       "7  4.0 out of 5 stars  \\n\\n\\n\\n\\n\\n\\n\\n\\n\\n  \\n  \\n    \\n  Great litt...\n",
       "8  5.0 out of 5 stars  \\n\\n\\n\\n\\n\\n\\n\\n\\n\\n  \\n  \\n    \\n  Thank you!...\n",
       "9  5.0 out of 5 stars  \\n\\n\\n\\n\\n\\n\\n\\n\\n\\n  \\n  \\n    \\n  Perfect! W..."
      ]
     },
     "execution_count": 6,
     "metadata": {},
     "output_type": "execute_result"
    }
   ],
   "source": [
    "df.head(10)"
   ]
  },
  {
   "cell_type": "code",
   "execution_count": 7,
   "metadata": {},
   "outputs": [
    {
     "name": "stdout",
     "output_type": "stream",
     "text": [
      "<class 'pandas.core.frame.DataFrame'>\n",
      "RangeIndex: 40 entries, 0 to 39\n",
      "Data columns (total 2 columns):\n",
      "stars      40 non-null object\n",
      "comment    40 non-null object\n",
      "dtypes: object(2)\n",
      "memory usage: 768.0+ bytes\n"
     ]
    }
   ],
   "source": [
    "df.info()"
   ]
  },
  {
   "cell_type": "code",
   "execution_count": 8,
   "metadata": {},
   "outputs": [
    {
     "data": {
      "text/plain": [
       "(40, 2)"
      ]
     },
     "execution_count": 8,
     "metadata": {},
     "output_type": "execute_result"
    }
   ],
   "source": [
    "df.shape"
   ]
  },
  {
   "cell_type": "code",
   "execution_count": null,
   "metadata": {},
   "outputs": [],
   "source": []
  },
  {
   "cell_type": "code",
   "execution_count": null,
   "metadata": {},
   "outputs": [],
   "source": [
    "#preparing the dataset-cleaning\n",
    "#Preparing the data for modeling"
   ]
  },
  {
   "cell_type": "code",
   "execution_count": 10,
   "metadata": {},
   "outputs": [],
   "source": [
    "df[\"reviews\"] = df[\"comment\"].str.replace('\\n', '', regex=True)  #removing extra spaces from the comments"
   ]
  },
  {
   "cell_type": "code",
   "execution_count": 11,
   "metadata": {},
   "outputs": [],
   "source": [
    "df[\"ratings\"] = df[\"stars\"].replace('out of 5 stars', '', regex=True) #removing the attachement out of 5 stars. Only the rating left"
   ]
  },
  {
   "cell_type": "code",
   "execution_count": 12,
   "metadata": {},
   "outputs": [],
   "source": [
    "df['reviews']=(df['reviews'].iloc[0:-1].str.lower())"
   ]
  },
  {
   "cell_type": "code",
   "execution_count": 13,
   "metadata": {},
   "outputs": [],
   "source": [
    "#deleting columns to only be left with the cleaned columns\n",
    "del df[\"comment\"]\n",
    "del df[\"stars\"]"
   ]
  },
  {
   "cell_type": "code",
   "execution_count": 14,
   "metadata": {},
   "outputs": [
    {
     "data": {
      "text/html": [
       "<div>\n",
       "<style scoped>\n",
       "    .dataframe tbody tr th:only-of-type {\n",
       "        vertical-align: middle;\n",
       "    }\n",
       "\n",
       "    .dataframe tbody tr th {\n",
       "        vertical-align: top;\n",
       "    }\n",
       "\n",
       "    .dataframe thead th {\n",
       "        text-align: right;\n",
       "    }\n",
       "</style>\n",
       "<table border=\"1\" class=\"dataframe\">\n",
       "  <thead>\n",
       "    <tr style=\"text-align: right;\">\n",
       "      <th></th>\n",
       "      <th>reviews</th>\n",
       "      <th>ratings</th>\n",
       "    </tr>\n",
       "  </thead>\n",
       "  <tbody>\n",
       "    <tr>\n",
       "      <td>0</td>\n",
       "      <td>cheap parts. broke in the first hour...</td>\n",
       "      <td>2.0</td>\n",
       "    </tr>\n",
       "    <tr>\n",
       "      <td>1</td>\n",
       "      <td>i'm sure it'd he fun if it worked. b...</td>\n",
       "      <td>1.0</td>\n",
       "    </tr>\n",
       "    <tr>\n",
       "      <td>2</td>\n",
       "      <td>i got this for a christmas gift and ...</td>\n",
       "      <td>5.0</td>\n",
       "    </tr>\n",
       "    <tr>\n",
       "      <td>3</td>\n",
       "      <td>my nephew opened this on christmas e...</td>\n",
       "      <td>1.0</td>\n",
       "    </tr>\n",
       "    <tr>\n",
       "      <td>4</td>\n",
       "      <td>i bought this for my young brother a...</td>\n",
       "      <td>5.0</td>\n",
       "    </tr>\n",
       "  </tbody>\n",
       "</table>\n",
       "</div>"
      ],
      "text/plain": [
       "                                             reviews ratings\n",
       "0            cheap parts. broke in the first hour...    2.0 \n",
       "1            i'm sure it'd he fun if it worked. b...    1.0 \n",
       "2            i got this for a christmas gift and ...    5.0 \n",
       "3            my nephew opened this on christmas e...    1.0 \n",
       "4            i bought this for my young brother a...    5.0 "
      ]
     },
     "execution_count": 14,
     "metadata": {},
     "output_type": "execute_result"
    }
   ],
   "source": [
    "df.head()"
   ]
  },
  {
   "cell_type": "code",
   "execution_count": 15,
   "metadata": {},
   "outputs": [
    {
     "name": "stdout",
     "output_type": "stream",
     "text": [
      "0               cheap parts  broke in the first hour...\n",
      "1               i m sure it d he fun if it worked  b...\n",
      "2               i got this for a christmas gift and ...\n",
      "3               my nephew opened this on christmas e...\n",
      "4               i bought this for my young brother a...\n",
      "5               i have ordered from this company sev...\n",
      "6                 received and wouldn t even turn on   \n",
      "7               great little drone  works really wel...\n",
      "8                                          thank you   \n",
      "9               perfect  was a gift for my son he lo...\n",
      "10              this was my first drone   it s fast ...\n",
      "11              i bought this mini orion drone spur ...\n",
      "12              received this as a christmas gift   ...\n",
      "13              i received this as a gift and was ti...\n",
      "14              did not like this thing one bit   i ...\n",
      "15              set it all up and charged batteries ...\n",
      "16              i purchased one from the same manufa...\n",
      "17                        works for like five minuets  \n",
      "18              camera screen did not work and compa...\n",
      "19              warning do not by this   it is a big...\n",
      "20              broke after less than one minute of ...\n",
      "21              ordered two of these for grandkids  ...\n",
      "22              item did not come with any instructi...\n",
      "23              this will be an awesome christmas pr...\n",
      "24                     was expecting a better product  \n",
      "25              same crap  new models not working fr...\n",
      "26                  great deal  bigger than expected   \n",
      "27              got this for my grandson for christm...\n",
      "28                                              great  \n",
      "29                           dislike  didn t even fly  \n",
      "30              the size like  wish it wasn t batter...\n",
      "31              bought this for my nephew on black f...\n",
      "32              first item didn t work out of the bo...\n",
      "33              this is worst  and not good enough t...\n",
      "34              did not work   son   husband was ext...\n",
      "35              i open the box and it wasn t new par...\n",
      "36              when this product arrived one of the...\n",
      "37              bought this drone as a christmas pre...\n",
      "38              only issue i had was that it s very ...\n",
      "Name: reviews, dtype: object\n"
     ]
    }
   ],
   "source": [
    "#remove punctuations using re\n",
    "pattern = r\"[^\\w\\s]\"\n",
    "df[\"reviews\"] = df[\"reviews\"].str.replace(pat=pattern, repl=\" \", regex=True)\n",
    "print(df['reviews'].iloc[0:-1])"
   ]
  },
  {
   "cell_type": "code",
   "execution_count": null,
   "metadata": {},
   "outputs": [],
   "source": []
  },
  {
   "cell_type": "code",
   "execution_count": null,
   "metadata": {},
   "outputs": [],
   "source": [
    "#Exploring the data... Distribution of the star ratings"
   ]
  },
  {
   "cell_type": "code",
   "execution_count": 16,
   "metadata": {},
   "outputs": [],
   "source": [
    "import seaborn as sns\n",
    "import matplotlib.pyplot as plt"
   ]
  },
  {
   "cell_type": "code",
   "execution_count": 17,
   "metadata": {},
   "outputs": [],
   "source": [
    "a = df[\"ratings\"]"
   ]
  },
  {
   "cell_type": "code",
   "execution_count": 18,
   "metadata": {},
   "outputs": [
    {
     "data": {
      "image/png": "[encoded data removed]",
      "text/plain": [
       "<Figure size 720x432 with 1 Axes>"
      ]
     },
     "metadata": {
      "needs_background": "light"
     },
     "output_type": "display_data"
    }
   ],
   "source": [
    "x= a.value_counts()\n",
    "x=x.sort_index()\n",
    "plt.figure(figsize=(10,6))\n",
    "ax=sns.barplot(x.index, x.values, alpha=0.8)\n",
    "plt.title(\"Distribution of Start Ratings\")\n",
    "plt.ylabel('count')\n",
    "plt.xlabel('star ratings')\n",
    "rects=ax.patches\n",
    "labels=x.values\n",
    "for rect, label in zip(rects,labels):\n",
    "    height=rect.get_height()\n",
    "    ax.text(rect.get_x() + rect.get_width()/2, height + 5, label, ha='center', va='bottom')\n",
    "plt.show()"
   ]
  },
  {
   "cell_type": "code",
   "execution_count": null,
   "metadata": {},
   "outputs": [],
   "source": []
  },
  {
   "cell_type": "code",
   "execution_count": null,
   "metadata": {},
   "outputs": [],
   "source": [
    "#Natural Language Processing.\n",
    "#removing stopwords\n",
    "#tokenizing\n",
    "#stemming and lemmatization"
   ]
  },
  {
   "cell_type": "code",
   "execution_count": 21,
   "metadata": {},
   "outputs": [],
   "source": [
    "import nltk\n",
    "import string\n",
    "from nltk.tokenize import sent_tokenize, word_tokenize\n",
    "from nltk import pos_tag\n",
    "from nltk.corpus import stopwords, wordnet\n",
    "from nltk import word_tokenize, pos_tag\n",
    "from nltk.stem import WordNetLemmatizer\n"
   ]
  },
  {
   "cell_type": "code",
   "execution_count": 22,
   "metadata": {},
   "outputs": [
    {
     "data": {
      "text/html": [
       "<div>\n",
       "<style scoped>\n",
       "    .dataframe tbody tr th:only-of-type {\n",
       "        vertical-align: middle;\n",
       "    }\n",
       "\n",
       "    .dataframe tbody tr th {\n",
       "        vertical-align: top;\n",
       "    }\n",
       "\n",
       "    .dataframe thead th {\n",
       "        text-align: right;\n",
       "    }\n",
       "</style>\n",
       "<table border=\"1\" class=\"dataframe\">\n",
       "  <thead>\n",
       "    <tr style=\"text-align: right;\">\n",
       "      <th></th>\n",
       "      <th>reviews</th>\n",
       "      <th>ratings</th>\n",
       "    </tr>\n",
       "  </thead>\n",
       "  <tbody>\n",
       "    <tr>\n",
       "      <td>0</td>\n",
       "      <td>cheap parts  broke in the first hour...</td>\n",
       "      <td>2.0</td>\n",
       "    </tr>\n",
       "    <tr>\n",
       "      <td>1</td>\n",
       "      <td>i m sure it d he fun if it worked  b...</td>\n",
       "      <td>1.0</td>\n",
       "    </tr>\n",
       "    <tr>\n",
       "      <td>2</td>\n",
       "      <td>i got this for a christmas gift and ...</td>\n",
       "      <td>5.0</td>\n",
       "    </tr>\n",
       "    <tr>\n",
       "      <td>3</td>\n",
       "      <td>my nephew opened this on christmas e...</td>\n",
       "      <td>1.0</td>\n",
       "    </tr>\n",
       "    <tr>\n",
       "      <td>4</td>\n",
       "      <td>i bought this for my young brother a...</td>\n",
       "      <td>5.0</td>\n",
       "    </tr>\n",
       "    <tr>\n",
       "      <td>5</td>\n",
       "      <td>i have ordered from this company sev...</td>\n",
       "      <td>1.0</td>\n",
       "    </tr>\n",
       "    <tr>\n",
       "      <td>6</td>\n",
       "      <td>received and wouldn t even turn on</td>\n",
       "      <td>1.0</td>\n",
       "    </tr>\n",
       "    <tr>\n",
       "      <td>7</td>\n",
       "      <td>great little drone  works really wel...</td>\n",
       "      <td>4.0</td>\n",
       "    </tr>\n",
       "    <tr>\n",
       "      <td>8</td>\n",
       "      <td>thank you</td>\n",
       "      <td>5.0</td>\n",
       "    </tr>\n",
       "    <tr>\n",
       "      <td>9</td>\n",
       "      <td>perfect  was a gift for my son he lo...</td>\n",
       "      <td>5.0</td>\n",
       "    </tr>\n",
       "    <tr>\n",
       "      <td>10</td>\n",
       "      <td>this was my first drone   it s fast ...</td>\n",
       "      <td>4.0</td>\n",
       "    </tr>\n",
       "    <tr>\n",
       "      <td>11</td>\n",
       "      <td>i bought this mini orion drone spur ...</td>\n",
       "      <td>1.0</td>\n",
       "    </tr>\n",
       "    <tr>\n",
       "      <td>12</td>\n",
       "      <td>received this as a christmas gift   ...</td>\n",
       "      <td>2.0</td>\n",
       "    </tr>\n",
       "    <tr>\n",
       "      <td>13</td>\n",
       "      <td>i received this as a gift and was ti...</td>\n",
       "      <td>1.0</td>\n",
       "    </tr>\n",
       "    <tr>\n",
       "      <td>14</td>\n",
       "      <td>did not like this thing one bit   i ...</td>\n",
       "      <td>1.0</td>\n",
       "    </tr>\n",
       "    <tr>\n",
       "      <td>15</td>\n",
       "      <td>set it all up and charged batteries ...</td>\n",
       "      <td>1.0</td>\n",
       "    </tr>\n",
       "    <tr>\n",
       "      <td>16</td>\n",
       "      <td>i purchased one from the same manufa...</td>\n",
       "      <td>1.0</td>\n",
       "    </tr>\n",
       "    <tr>\n",
       "      <td>17</td>\n",
       "      <td>works for like five minuets</td>\n",
       "      <td>3.0</td>\n",
       "    </tr>\n",
       "    <tr>\n",
       "      <td>18</td>\n",
       "      <td>camera screen did not work and compa...</td>\n",
       "      <td>1.0</td>\n",
       "    </tr>\n",
       "    <tr>\n",
       "      <td>19</td>\n",
       "      <td>warning do not by this   it is a big...</td>\n",
       "      <td>1.0</td>\n",
       "    </tr>\n",
       "    <tr>\n",
       "      <td>20</td>\n",
       "      <td>broke after less than one minute of ...</td>\n",
       "      <td>1.0</td>\n",
       "    </tr>\n",
       "    <tr>\n",
       "      <td>21</td>\n",
       "      <td>ordered two of these for grandkids  ...</td>\n",
       "      <td>1.0</td>\n",
       "    </tr>\n",
       "    <tr>\n",
       "      <td>22</td>\n",
       "      <td>item did not come with any instructi...</td>\n",
       "      <td>1.0</td>\n",
       "    </tr>\n",
       "    <tr>\n",
       "      <td>23</td>\n",
       "      <td>this will be an awesome christmas pr...</td>\n",
       "      <td>5.0</td>\n",
       "    </tr>\n",
       "    <tr>\n",
       "      <td>24</td>\n",
       "      <td>was expecting a better product</td>\n",
       "      <td>1.0</td>\n",
       "    </tr>\n",
       "    <tr>\n",
       "      <td>25</td>\n",
       "      <td>same crap  new models not working fr...</td>\n",
       "      <td>1.0</td>\n",
       "    </tr>\n",
       "    <tr>\n",
       "      <td>26</td>\n",
       "      <td>great deal  bigger than expected</td>\n",
       "      <td>5.0</td>\n",
       "    </tr>\n",
       "    <tr>\n",
       "      <td>27</td>\n",
       "      <td>got this for my grandson for christm...</td>\n",
       "      <td>5.0</td>\n",
       "    </tr>\n",
       "    <tr>\n",
       "      <td>28</td>\n",
       "      <td>great</td>\n",
       "      <td>5.0</td>\n",
       "    </tr>\n",
       "    <tr>\n",
       "      <td>29</td>\n",
       "      <td>dislike  didn t even fly</td>\n",
       "      <td>1.0</td>\n",
       "    </tr>\n",
       "    <tr>\n",
       "      <td>30</td>\n",
       "      <td>the size like  wish it wasn t batter...</td>\n",
       "      <td>5.0</td>\n",
       "    </tr>\n",
       "    <tr>\n",
       "      <td>31</td>\n",
       "      <td>bought this for my nephew on black f...</td>\n",
       "      <td>4.0</td>\n",
       "    </tr>\n",
       "    <tr>\n",
       "      <td>32</td>\n",
       "      <td>first item didn t work out of the bo...</td>\n",
       "      <td>1.0</td>\n",
       "    </tr>\n",
       "    <tr>\n",
       "      <td>33</td>\n",
       "      <td>this is worst  and not good enough t...</td>\n",
       "      <td>2.0</td>\n",
       "    </tr>\n",
       "    <tr>\n",
       "      <td>34</td>\n",
       "      <td>did not work   son   husband was ext...</td>\n",
       "      <td>1.0</td>\n",
       "    </tr>\n",
       "    <tr>\n",
       "      <td>35</td>\n",
       "      <td>i open the box and it wasn t new par...</td>\n",
       "      <td>1.0</td>\n",
       "    </tr>\n",
       "    <tr>\n",
       "      <td>36</td>\n",
       "      <td>when this product arrived one of the...</td>\n",
       "      <td>5.0</td>\n",
       "    </tr>\n",
       "    <tr>\n",
       "      <td>37</td>\n",
       "      <td>bought this drone as a christmas pre...</td>\n",
       "      <td>1.0</td>\n",
       "    </tr>\n",
       "    <tr>\n",
       "      <td>38</td>\n",
       "      <td>only issue i had was that it s very ...</td>\n",
       "      <td>5.0</td>\n",
       "    </tr>\n",
       "  </tbody>\n",
       "</table>\n",
       "</div>"
      ],
      "text/plain": [
       "                                              reviews ratings\n",
       "0             cheap parts  broke in the first hour...    2.0 \n",
       "1             i m sure it d he fun if it worked  b...    1.0 \n",
       "2             i got this for a christmas gift and ...    5.0 \n",
       "3             my nephew opened this on christmas e...    1.0 \n",
       "4             i bought this for my young brother a...    5.0 \n",
       "5             i have ordered from this company sev...    1.0 \n",
       "6               received and wouldn t even turn on       1.0 \n",
       "7             great little drone  works really wel...    4.0 \n",
       "8                                        thank you       5.0 \n",
       "9             perfect  was a gift for my son he lo...    5.0 \n",
       "10            this was my first drone   it s fast ...    4.0 \n",
       "11            i bought this mini orion drone spur ...    1.0 \n",
       "12            received this as a christmas gift   ...    2.0 \n",
       "13            i received this as a gift and was ti...    1.0 \n",
       "14            did not like this thing one bit   i ...    1.0 \n",
       "15            set it all up and charged batteries ...    1.0 \n",
       "16            i purchased one from the same manufa...    1.0 \n",
       "17                      works for like five minuets      3.0 \n",
       "18            camera screen did not work and compa...    1.0 \n",
       "19            warning do not by this   it is a big...    1.0 \n",
       "20            broke after less than one minute of ...    1.0 \n",
       "21            ordered two of these for grandkids  ...    1.0 \n",
       "22            item did not come with any instructi...    1.0 \n",
       "23            this will be an awesome christmas pr...    5.0 \n",
       "24                   was expecting a better product      1.0 \n",
       "25            same crap  new models not working fr...    1.0 \n",
       "26                great deal  bigger than expected       5.0 \n",
       "27            got this for my grandson for christm...    5.0 \n",
       "28                                            great      5.0 \n",
       "29                         dislike  didn t even fly      1.0 \n",
       "30            the size like  wish it wasn t batter...    5.0 \n",
       "31            bought this for my nephew on black f...    4.0 \n",
       "32            first item didn t work out of the bo...    1.0 \n",
       "33            this is worst  and not good enough t...    2.0 \n",
       "34            did not work   son   husband was ext...    1.0 \n",
       "35            i open the box and it wasn t new par...    1.0 \n",
       "36            when this product arrived one of the...    5.0 \n",
       "37            bought this drone as a christmas pre...    1.0 \n",
       "38            only issue i had was that it s very ...    5.0 "
      ]
     },
     "execution_count": 22,
     "metadata": {},
     "output_type": "execute_result"
    }
   ],
   "source": [
    "df.dropna()"
   ]
  },
  {
   "cell_type": "code",
   "execution_count": 23,
   "metadata": {},
   "outputs": [],
   "source": [
    "df[\"reviews\"] = df[\"reviews\"].astype(str)"
   ]
  },
  {
   "cell_type": "code",
   "execution_count": 24,
   "metadata": {},
   "outputs": [],
   "source": [
    "#remove extra spaces\n",
    "pattern = r\"[\\s]+\"\n",
    "df[\"reviews\"] = df[\"reviews\"].str.replace(pat=pattern, repl=\" \", regex=True)"
   ]
  },
  {
   "cell_type": "code",
   "execution_count": 25,
   "metadata": {},
   "outputs": [],
   "source": [
    "stop_words = stopwords.words(\"english\")"
   ]
  },
  {
   "cell_type": "code",
   "execution_count": 26,
   "metadata": {},
   "outputs": [],
   "source": [
    "# Function to remove stop words \n",
    "def stopwords_removal(review):\n",
    "    review_tokenized = word_tokenize(review)\n",
    "    review_new = \" \".join([i for i in review_tokenized  if i not in stop_words])\n",
    "    return review_new\n",
    "\n",
    "# Removing stopwords\n",
    "df['review_processed'] = [stopwords_removal(r) for r in df['reviews']]"
   ]
  },
  {
   "cell_type": "code",
   "execution_count": 27,
   "metadata": {},
   "outputs": [
    {
     "data": {
      "text/html": [
       "<div>\n",
       "<style scoped>\n",
       "    .dataframe tbody tr th:only-of-type {\n",
       "        vertical-align: middle;\n",
       "    }\n",
       "\n",
       "    .dataframe tbody tr th {\n",
       "        vertical-align: top;\n",
       "    }\n",
       "\n",
       "    .dataframe thead th {\n",
       "        text-align: right;\n",
       "    }\n",
       "</style>\n",
       "<table border=\"1\" class=\"dataframe\">\n",
       "  <thead>\n",
       "    <tr style=\"text-align: right;\">\n",
       "      <th></th>\n",
       "      <th>reviews</th>\n",
       "      <th>ratings</th>\n",
       "      <th>review_processed</th>\n",
       "    </tr>\n",
       "  </thead>\n",
       "  <tbody>\n",
       "    <tr>\n",
       "      <td>0</td>\n",
       "      <td>cheap parts broke in the first hour unable to...</td>\n",
       "      <td>2.0</td>\n",
       "      <td>cheap parts broke first hour unable repair</td>\n",
       "    </tr>\n",
       "    <tr>\n",
       "      <td>1</td>\n",
       "      <td>i m sure it d he fun if it worked battery was...</td>\n",
       "      <td>1.0</td>\n",
       "      <td>sure fun worked battery already installed mean...</td>\n",
       "    </tr>\n",
       "    <tr>\n",
       "      <td>2</td>\n",
       "      <td>i got this for a christmas gift and he has al...</td>\n",
       "      <td>5.0</td>\n",
       "      <td>got christmas gift already played hours since ...</td>\n",
       "    </tr>\n",
       "    <tr>\n",
       "      <td>3</td>\n",
       "      <td>my nephew opened this on christmas eve and it...</td>\n",
       "      <td>1.0</td>\n",
       "      <td>nephew opened christmas eve make next morning ...</td>\n",
       "    </tr>\n",
       "    <tr>\n",
       "      <td>4</td>\n",
       "      <td>i bought this for my young brother and he lov...</td>\n",
       "      <td>5.0</td>\n",
       "      <td>bought young brother loves every thing works p...</td>\n",
       "    </tr>\n",
       "  </tbody>\n",
       "</table>\n",
       "</div>"
      ],
      "text/plain": [
       "                                             reviews ratings  \\\n",
       "0   cheap parts broke in the first hour unable to...    2.0    \n",
       "1   i m sure it d he fun if it worked battery was...    1.0    \n",
       "2   i got this for a christmas gift and he has al...    5.0    \n",
       "3   my nephew opened this on christmas eve and it...    1.0    \n",
       "4   i bought this for my young brother and he lov...    5.0    \n",
       "\n",
       "                                    review_processed  \n",
       "0         cheap parts broke first hour unable repair  \n",
       "1  sure fun worked battery already installed mean...  \n",
       "2  got christmas gift already played hours since ...  \n",
       "3  nephew opened christmas eve make next morning ...  \n",
       "4  bought young brother loves every thing works p...  "
      ]
     },
     "execution_count": 27,
     "metadata": {},
     "output_type": "execute_result"
    }
   ],
   "source": [
    "df.head()"
   ]
  },
  {
   "cell_type": "code",
   "execution_count": 28,
   "metadata": {},
   "outputs": [
    {
     "name": "stdout",
     "output_type": "stream",
     "text": [
      "[['cheap', 'parts', 'broke', 'first', 'hour', 'unable', 'repair'], ['sure', 'fun', 'worked', 'battery', 'already', 'installed', 'meaning', 'used', 'instructions', 'hard', 'follow', 'isnt', 'even', 'micro', 'sd', 'port', 'says', 'kinda', 'think', 'thing', 'prank', 'see', 'much', 'time', 'waste', 'lol'], ['got', 'christmas', 'gift', 'already', 'played', 'hours', 'since', 'opening', 'highly', 'recommended', 'age'], ['nephew', 'opened', 'christmas', 'eve', 'make', 'next', 'morning', 'disappointed', 'everything', 'product'], ['bought', 'young', 'brother', 'loves', 'every', 'thing', 'works', 'perfect', 'fly', '10', 'minutes'], ['ordered', 'company', 'several', 'times', 'everything', 'ever', 'bought', 'junk', 'world', 'tech', 'toys'], ['received', 'even', 'turn'], ['great', 'little', 'drone', 'works', 'really', 'well', 'make', 'sure', 'plenty', 'room', 'get', 'hang'], ['thank'], ['perfect', 'gift', 'son', 'loves'], ['first', 'drone', 'fast', 'take', 'time', 'learn', 'get', 'like', 'trying', 'watch', 'fly', 'make', 'sure', 'wind', 'calm', 'possible', 'ground', 'level', 'seem', 'bad', '20', 'wind', 'get', 'ya', 'course', 'lost', 'tree', 'took', 'several', 'hours', 'getting', 'back', 'newbie', 'drone', 'field', 'find', 'pictures', 'vids', 'grainy', 'video', 'mode', 'camera', 'shakes', 'bad', 'flight', 'really', 'usable', 'way', 'fixing', 'problem', 'though', 'cheap', 'drone', 'good', 'place', 'start', 'guess', 'world', 'droning'], ['bought', 'mini', 'orion', 'drone', 'spur', 'moment', 'tv', 'shopping', 'channel', 'surfing', 'stations', 'never', 'benefit', 'reviews', 'like', 'amazon', 'drone', 'never', 'flew', 'press', 'auto', 'pilot', 'essentially', 'start', 'button', 'rotor', 'blades', 'supposed', 'start', 'turning', 'drone', 'supposed', 'stay', 'stationary', 'maneuver', 'joysticks', 'go', 'right', 'left', 'etc', 'drone', 'starts', 'move', 'touching', 'joysticks', 'pressing', 'auto', 'pilot', 'supposed', 'able', 'trim', 'drone', 'basically', 'recalibrate', 'resting', 'position', 'drone', 'stays', 'put', 'want', 'move', 'even', 'though', 'rotor', 'blades', 'moving', 'amount', 'trimming', 'special', 'buttons', 'control', 'panel', 'worked', 'everytime', 'pressed', 'auto', 'pilot', 'button', 'drone', 'immediately', 'veered', 'left', 'flipped', 'ground', 'saw', 'comment', 'another', 'post', 'said', 'recalibrate', 'gyro', 'playing', 'joysticks', 'prior', 'pressing', 'auto', 'pilot', 'button', 'worked', 'piece', 'junk', 'waste', 'money', 'big', 'waste', 'time', 'caused', 'lot', 'frustration', 'would', 'never', 'buy', 'another', 'product', 'world', 'tech', 'toys', 'really', 'junk'], ['received', 'christmas', 'gift', 'fly', 'fly', '2', 'min', 'battery', 'dead', 'came', 'two', 'batteries', 'last', '2', 'min', 'flight', 'time', 'aside', 'amount', 'trim', 'adjustments', 'makes', 'thing', 'hover', 'even', 'zero', 'wind', 'time', 'get', 'trimmed', 'fly', 'battery', 'dead'], ['received', 'gift', 'tickled', 'get', 'experienced', 'rc', 'fixed', 'wing', 'pilot', 'well', 'private', 'pilot', 'real', 'full', 'scale', 'aircraft', 'great', 'deal', 'difficulty', 'flying', 'thing', 'seemed', 'work', 'ok', 'initially', 'rough', 'landings', 'find', 'wants', 'fly', 'backwards', 'beginning', 'amount', 'trim', 'help', 'press', 'autopilot', 'start', 'rotors', 'working', 'immediately', 'noses', 'falls', 'back', 'rear', 'skids', 'trying', 'everything', 'adding', 'weights', 'front', 'unsuccessful', 'getting', 'flying'], ['like', 'thing', 'one', 'bit', 'flew', 'successfully', 'hill', 'one', 'bad', 'landing', 'grass', 'take', 'anymore', 'attempts', 'one', 'sided', 'lift', 'flips', 'take', 'disappointed', 'drone'], ['set', 'charged', 'batteries', 'flies', 'ok', 'lcd', 'screen', 'sync', 'camera', 'picture'], ['purchased', 'one', 'manufacturer', 'extremely', 'similar', 'different', 'name', 'orion', 'spy', 'camera', 'drone', 'searches', 'shopping', 'networks', 'find', 'video', 'demonstration', 'watch', 'first', 'minutes', 'rating', 'self', 'explanatory', 'trim', 'features', 'barely', 'work', 'even', 'windless', 'day', 'drone', 'hover', 'constantly', 'manipulate', 'controls', 'perhaps', 'someone', 'experience', 'could', 'make', 'work', 'beginner', 'novice', 'frustration', 'flying'], ['works', 'like', 'five', 'minuets'], ['camera', 'screen', 'work', 'company', 'would', 'replace', 'real', 'piece', 'crap'], ['warning', 'big', 'piece', 'junk', 'dissatisfied', 'whole', 'thing', 'junk', 'junk', 'junk', 'could', 'give', 'zero', 'would'], ['broke', 'less', 'one', 'minute', 'first', 'use'], ['ordered', 'two', 'grandkids', 'one', 'came', 'without', 'battery', 'second', 'one', 'work', 'disappointing', 'christmas', 'kids'], ['item', 'come', 'instructions', 'slot', 'sd', 'card', 'install'], ['awesome', 'christmas', 'present', 'son', 'affordable', 'looks', 'durable'], ['expecting', 'better', 'product'], ['crap', 'new', 'models', 'working', 'company', 'mi'], ['great', 'deal', 'bigger', 'expected'], ['got', 'grandson', 'christmas', 'put', 'together', 'try', 'great', 'going', 'love', 'going', 'easy', 'us', 'going', 'fun', 'watch', 'see', 'pictures', 'gets', 'camera', 'easy', 'put', 'together', 'like', 'battery', 'charge', 'buy', 'lol', 'priced', 'great', 'first', 'one', 'grandson', 'learn', 'getting', 'couple', 'two', 'grandsons', 'younger', 'one', 'great', 'first', 'drone'], ['great'], ['dislike', 'even', 'fly'], ['size', 'like', 'wish', 'battery', 'operated'], ['bought', 'nephew', 'black', 'friday', 'around', '20', 'camera', 'actually', 'pretty', 'good', 'compared', 'nearly', 'every', 'toy', 'grade', 'camera', 'drone', 'comes', '4gb', 'sd', 'card', 'usb', 'reader', 'major', 'plus', 'took', 'breezy', 'day', '5mph', 'consistent', 'winds', 'handled', 'great', 'took', 'star', 'camera', 'dampening', 'meaning', 'videos', 'come', 'wobbly', 'lack', 'better', 'word', 'fix', 'insert', 'foam', 'wedge', 'spherical', 'camera', 'drone', 'body', 'fixed', 'pretty', 'good', 'overall', 'great', 'toy', 'drone', 'younger', 'crowd'], ['first', 'item', 'work', 'box', 'even', 'reading', 'directions', 'reviewing', 'instructionals', 'video', 'second', 'one', 'flew', 'great', 'day', 'second', 'day', 'flying', 'came', 'grass', 'short', 'grass', 'fly', 'crash', 'seemed', 'fine', 'landed', 'landing', 'gear', 'fly', 'every', 'time', 'tried', 'fly', 'would', 'fall', 'onto', 'side', 'like', 'two', 'propellers', 'side', 'working', 'spinning', 'fine', 'giving', 'returning', 'quality', 'product'], ['worst', 'good', 'enough', 'worry', 'break', 'anytime', 'soon', 'hard', 'start', 'wont', 'hold', 'balance', 'hard', 'takes', 'worried', 'minutes', 'flying', 'time', 'overwhelming', 'really', 'want', 'broke', 'first', 'time', 'landing', 'control', 'could', 'connect', 'right', 'run', 'stuff', 'fly', 'around', 'like', 'giant', 'buzzing', 'fly', 'flashing', 'lights', 'kids', 'love', 'would', 'nice', 'better', 'quality', 'control'], ['work', 'son', 'husband', 'extremely', 'disappointed', 'christmas', 'day', '2', 'days', 'trying', 'gave', 'instructions', '1', 'leds', 'work', 'never', 'made', 'ground', 'flipped', 'immediately', 'returned', 'unit', 'ordered', 'different', 'unit', 'different', 'brand', 'happy', '2nd', 'unit'], ['open', 'box', 'new', 'parts', 'missing', 'charge', 'charger', 'battery'], ['product', 'arrived', 'one', 'propeller', 'guards', 'missing', 'called', 'amazon', 'fixed', 'right', 'sending', '4', 'pack', 'grandson', 'loves', 'put', 'roof', 'couple', 'times', 'getting', 'better', 'steering'], ['bought', 'drone', 'christmas', 'present', 'one', 'nephews', 'work', 'tried', 'everything', 'thing', 'work', 'sad', 'disappointed'], ['issue', 'fast', 'even', 'lowest', 'speed', 'setting', 'fun', 'fly', 'get', 'used', 'controls', 'stay', 'low', 'fly', 'daylight', 'get', 'used', 'controls']]\n"
     ]
    }
   ],
   "source": [
    "#tokenizing\n",
    "corpora = df[\"review_processed\"].values\n",
    "tokenized = [corpus.split(\" \") for corpus in corpora]\n",
    "\n",
    "print(tokenized[0:-1])"
   ]
  },
  {
   "cell_type": "code",
   "execution_count": null,
   "metadata": {},
   "outputs": [],
   "source": []
  },
  {
   "cell_type": "code",
   "execution_count": 29,
   "metadata": {},
   "outputs": [],
   "source": [
    "#USING POLARITY FOR DETERMINING SENTIMENTS\n",
    "from textblob import TextBlob"
   ]
  },
  {
   "cell_type": "code",
   "execution_count": 30,
   "metadata": {},
   "outputs": [],
   "source": [
    "#function for getting polarity and subjectivity for each review\n",
    "def sentiment_function(review_processed):\n",
    "    try:\n",
    "        return TextBlob(review_processed).sentiment\n",
    "    except:\n",
    "        return None"
   ]
  },
  {
   "cell_type": "code",
   "execution_count": 31,
   "metadata": {},
   "outputs": [],
   "source": [
    "df[\"Pol_Sub\"] = df[\"review_processed\"].apply(sentiment_function)"
   ]
  },
  {
   "cell_type": "code",
   "execution_count": 32,
   "metadata": {},
   "outputs": [
    {
     "data": {
      "text/html": [
       "<div>\n",
       "<style scoped>\n",
       "    .dataframe tbody tr th:only-of-type {\n",
       "        vertical-align: middle;\n",
       "    }\n",
       "\n",
       "    .dataframe tbody tr th {\n",
       "        vertical-align: top;\n",
       "    }\n",
       "\n",
       "    .dataframe thead th {\n",
       "        text-align: right;\n",
       "    }\n",
       "</style>\n",
       "<table border=\"1\" class=\"dataframe\">\n",
       "  <thead>\n",
       "    <tr style=\"text-align: right;\">\n",
       "      <th></th>\n",
       "      <th>reviews</th>\n",
       "      <th>ratings</th>\n",
       "      <th>review_processed</th>\n",
       "      <th>Pol_Sub</th>\n",
       "    </tr>\n",
       "  </thead>\n",
       "  <tbody>\n",
       "    <tr>\n",
       "      <td>0</td>\n",
       "      <td>cheap parts broke in the first hour unable to...</td>\n",
       "      <td>2.0</td>\n",
       "      <td>cheap parts broke first hour unable repair</td>\n",
       "      <td>(0.05000000000000001, 0.5111111111111111)</td>\n",
       "    </tr>\n",
       "    <tr>\n",
       "      <td>1</td>\n",
       "      <td>i m sure it d he fun if it worked battery was...</td>\n",
       "      <td>1.0</td>\n",
       "      <td>sure fun worked battery already installed mean...</td>\n",
       "      <td>(0.21805555555555556, 0.4217592592592592)</td>\n",
       "    </tr>\n",
       "    <tr>\n",
       "      <td>2</td>\n",
       "      <td>i got this for a christmas gift and he has al...</td>\n",
       "      <td>5.0</td>\n",
       "      <td>got christmas gift already played hours since ...</td>\n",
       "      <td>(0.16, 0.5399999999999999)</td>\n",
       "    </tr>\n",
       "    <tr>\n",
       "      <td>3</td>\n",
       "      <td>my nephew opened this on christmas eve and it...</td>\n",
       "      <td>1.0</td>\n",
       "      <td>nephew opened christmas eve make next morning ...</td>\n",
       "      <td>(-0.375, 0.375)</td>\n",
       "    </tr>\n",
       "    <tr>\n",
       "      <td>4</td>\n",
       "      <td>i bought this for my young brother and he lov...</td>\n",
       "      <td>5.0</td>\n",
       "      <td>bought young brother loves every thing works p...</td>\n",
       "      <td>(0.6333333333333334, 0.7666666666666666)</td>\n",
       "    </tr>\n",
       "  </tbody>\n",
       "</table>\n",
       "</div>"
      ],
      "text/plain": [
       "                                             reviews ratings  \\\n",
       "0   cheap parts broke in the first hour unable to...    2.0    \n",
       "1   i m sure it d he fun if it worked battery was...    1.0    \n",
       "2   i got this for a christmas gift and he has al...    5.0    \n",
       "3   my nephew opened this on christmas eve and it...    1.0    \n",
       "4   i bought this for my young brother and he lov...    5.0    \n",
       "\n",
       "                                    review_processed  \\\n",
       "0         cheap parts broke first hour unable repair   \n",
       "1  sure fun worked battery already installed mean...   \n",
       "2  got christmas gift already played hours since ...   \n",
       "3  nephew opened christmas eve make next morning ...   \n",
       "4  bought young brother loves every thing works p...   \n",
       "\n",
       "                                     Pol_Sub  \n",
       "0  (0.05000000000000001, 0.5111111111111111)  \n",
       "1  (0.21805555555555556, 0.4217592592592592)  \n",
       "2                 (0.16, 0.5399999999999999)  \n",
       "3                            (-0.375, 0.375)  \n",
       "4   (0.6333333333333334, 0.7666666666666666)  "
      ]
     },
     "execution_count": 32,
     "metadata": {},
     "output_type": "execute_result"
    }
   ],
   "source": [
    "df.head()"
   ]
  },
  {
   "cell_type": "code",
   "execution_count": 33,
   "metadata": {},
   "outputs": [],
   "source": [
    "#spliting the column to get distinct values\n",
    "\n",
    "df[\"Pol_Sub\"][0][0]\n",
    "\n",
    "df[\"Polarity\"]=df[\"Pol_Sub\"].apply(lambda x:x[0])\n",
    "\n",
    "df[\"Subjectivity\"]=df[\"Pol_Sub\"].apply(lambda x:x[1])\n"
   ]
  },
  {
   "cell_type": "code",
   "execution_count": 34,
   "metadata": {},
   "outputs": [],
   "source": [
    "del df['Pol_Sub']"
   ]
  },
  {
   "cell_type": "code",
   "execution_count": 35,
   "metadata": {},
   "outputs": [
    {
     "data": {
      "text/html": [
       "<div>\n",
       "<style scoped>\n",
       "    .dataframe tbody tr th:only-of-type {\n",
       "        vertical-align: middle;\n",
       "    }\n",
       "\n",
       "    .dataframe tbody tr th {\n",
       "        vertical-align: top;\n",
       "    }\n",
       "\n",
       "    .dataframe thead th {\n",
       "        text-align: right;\n",
       "    }\n",
       "</style>\n",
       "<table border=\"1\" class=\"dataframe\">\n",
       "  <thead>\n",
       "    <tr style=\"text-align: right;\">\n",
       "      <th></th>\n",
       "      <th>reviews</th>\n",
       "      <th>ratings</th>\n",
       "      <th>review_processed</th>\n",
       "      <th>Polarity</th>\n",
       "      <th>Subjectivity</th>\n",
       "    </tr>\n",
       "  </thead>\n",
       "  <tbody>\n",
       "    <tr>\n",
       "      <td>0</td>\n",
       "      <td>cheap parts broke in the first hour unable to...</td>\n",
       "      <td>2.0</td>\n",
       "      <td>cheap parts broke first hour unable repair</td>\n",
       "      <td>0.050000</td>\n",
       "      <td>0.511111</td>\n",
       "    </tr>\n",
       "    <tr>\n",
       "      <td>1</td>\n",
       "      <td>i m sure it d he fun if it worked battery was...</td>\n",
       "      <td>1.0</td>\n",
       "      <td>sure fun worked battery already installed mean...</td>\n",
       "      <td>0.218056</td>\n",
       "      <td>0.421759</td>\n",
       "    </tr>\n",
       "    <tr>\n",
       "      <td>2</td>\n",
       "      <td>i got this for a christmas gift and he has al...</td>\n",
       "      <td>5.0</td>\n",
       "      <td>got christmas gift already played hours since ...</td>\n",
       "      <td>0.160000</td>\n",
       "      <td>0.540000</td>\n",
       "    </tr>\n",
       "    <tr>\n",
       "      <td>3</td>\n",
       "      <td>my nephew opened this on christmas eve and it...</td>\n",
       "      <td>1.0</td>\n",
       "      <td>nephew opened christmas eve make next morning ...</td>\n",
       "      <td>-0.375000</td>\n",
       "      <td>0.375000</td>\n",
       "    </tr>\n",
       "    <tr>\n",
       "      <td>4</td>\n",
       "      <td>i bought this for my young brother and he lov...</td>\n",
       "      <td>5.0</td>\n",
       "      <td>bought young brother loves every thing works p...</td>\n",
       "      <td>0.633333</td>\n",
       "      <td>0.766667</td>\n",
       "    </tr>\n",
       "  </tbody>\n",
       "</table>\n",
       "</div>"
      ],
      "text/plain": [
       "                                             reviews ratings  \\\n",
       "0   cheap parts broke in the first hour unable to...    2.0    \n",
       "1   i m sure it d he fun if it worked battery was...    1.0    \n",
       "2   i got this for a christmas gift and he has al...    5.0    \n",
       "3   my nephew opened this on christmas eve and it...    1.0    \n",
       "4   i bought this for my young brother and he lov...    5.0    \n",
       "\n",
       "                                    review_processed  Polarity  Subjectivity  \n",
       "0         cheap parts broke first hour unable repair  0.050000      0.511111  \n",
       "1  sure fun worked battery already installed mean...  0.218056      0.421759  \n",
       "2  got christmas gift already played hours since ...  0.160000      0.540000  \n",
       "3  nephew opened christmas eve make next morning ... -0.375000      0.375000  \n",
       "4  bought young brother loves every thing works p...  0.633333      0.766667  "
      ]
     },
     "execution_count": 35,
     "metadata": {},
     "output_type": "execute_result"
    }
   ],
   "source": [
    "df.head()"
   ]
  },
  {
   "cell_type": "code",
   "execution_count": 36,
   "metadata": {},
   "outputs": [
    {
     "data": {
      "image/png": "[encoded data removed]",
      "text/plain": [
       "<Figure size 864x432 with 1 Axes>"
      ]
     },
     "metadata": {
      "needs_background": "light"
     },
     "output_type": "display_data"
    }
   ],
   "source": [
    "#polarity distribution\n",
    "n_bins= 38\n",
    "plt.figure(figsize=(12,6))\n",
    "n, bins, patches= plt.hist(df[\"Polarity\"], n_bins, facecolor='purple')\n",
    "plt.xlabel('Polarity')\n",
    "plt.ylabel('Count')\n",
    "plt.title('Distribution of Polarity')\n",
    "plt.show()"
   ]
  },
  {
   "cell_type": "code",
   "execution_count": 37,
   "metadata": {},
   "outputs": [],
   "source": [
    "#using the nltk sentiment analyser\n",
    "from nltk.sentiment.vader import SentimentIntensityAnalyzer"
   ]
  },
  {
   "cell_type": "code",
   "execution_count": 38,
   "metadata": {},
   "outputs": [],
   "source": [
    "#sentiment analyser function\n",
    "def analyser(reviews):\n",
    "    sent_score = SentimentIntensityAnalyzer().polarity_scores(reviews)\n",
    "    negative= sent_score['neg']\n",
    "    positive= sent_score['pos']\n",
    "    if negative > positive:\n",
    "        return \"negative sentiment\"\n",
    "    elif negative < positive:\n",
    "        return \"positive sentiment\"\n",
    "    else:\n",
    "        return \"neutral sentiment\"\n",
    "  "
   ]
  },
  {
   "cell_type": "code",
   "execution_count": 39,
   "metadata": {},
   "outputs": [],
   "source": [
    "df['nltk_sentiment'] = df['review_processed'].apply(analyser)"
   ]
  },
  {
   "cell_type": "code",
   "execution_count": 40,
   "metadata": {},
   "outputs": [
    {
     "data": {
      "text/html": [
       "<div>\n",
       "<style scoped>\n",
       "    .dataframe tbody tr th:only-of-type {\n",
       "        vertical-align: middle;\n",
       "    }\n",
       "\n",
       "    .dataframe tbody tr th {\n",
       "        vertical-align: top;\n",
       "    }\n",
       "\n",
       "    .dataframe thead th {\n",
       "        text-align: right;\n",
       "    }\n",
       "</style>\n",
       "<table border=\"1\" class=\"dataframe\">\n",
       "  <thead>\n",
       "    <tr style=\"text-align: right;\">\n",
       "      <th></th>\n",
       "      <th>reviews</th>\n",
       "      <th>ratings</th>\n",
       "      <th>review_processed</th>\n",
       "      <th>Polarity</th>\n",
       "      <th>Subjectivity</th>\n",
       "      <th>nltk_sentiment</th>\n",
       "    </tr>\n",
       "  </thead>\n",
       "  <tbody>\n",
       "    <tr>\n",
       "      <td>0</td>\n",
       "      <td>cheap parts broke in the first hour unable to...</td>\n",
       "      <td>2.0</td>\n",
       "      <td>cheap parts broke first hour unable repair</td>\n",
       "      <td>0.050000</td>\n",
       "      <td>0.511111</td>\n",
       "      <td>negative sentiment</td>\n",
       "    </tr>\n",
       "    <tr>\n",
       "      <td>1</td>\n",
       "      <td>i m sure it d he fun if it worked battery was...</td>\n",
       "      <td>1.0</td>\n",
       "      <td>sure fun worked battery already installed mean...</td>\n",
       "      <td>0.218056</td>\n",
       "      <td>0.421759</td>\n",
       "      <td>positive sentiment</td>\n",
       "    </tr>\n",
       "    <tr>\n",
       "      <td>2</td>\n",
       "      <td>i got this for a christmas gift and he has al...</td>\n",
       "      <td>5.0</td>\n",
       "      <td>got christmas gift already played hours since ...</td>\n",
       "      <td>0.160000</td>\n",
       "      <td>0.540000</td>\n",
       "      <td>positive sentiment</td>\n",
       "    </tr>\n",
       "    <tr>\n",
       "      <td>3</td>\n",
       "      <td>my nephew opened this on christmas eve and it...</td>\n",
       "      <td>1.0</td>\n",
       "      <td>nephew opened christmas eve make next morning ...</td>\n",
       "      <td>-0.375000</td>\n",
       "      <td>0.375000</td>\n",
       "      <td>negative sentiment</td>\n",
       "    </tr>\n",
       "    <tr>\n",
       "      <td>4</td>\n",
       "      <td>i bought this for my young brother and he lov...</td>\n",
       "      <td>5.0</td>\n",
       "      <td>bought young brother loves every thing works p...</td>\n",
       "      <td>0.633333</td>\n",
       "      <td>0.766667</td>\n",
       "      <td>positive sentiment</td>\n",
       "    </tr>\n",
       "  </tbody>\n",
       "</table>\n",
       "</div>"
      ],
      "text/plain": [
       "                                             reviews ratings  \\\n",
       "0   cheap parts broke in the first hour unable to...    2.0    \n",
       "1   i m sure it d he fun if it worked battery was...    1.0    \n",
       "2   i got this for a christmas gift and he has al...    5.0    \n",
       "3   my nephew opened this on christmas eve and it...    1.0    \n",
       "4   i bought this for my young brother and he lov...    5.0    \n",
       "\n",
       "                                    review_processed  Polarity  Subjectivity  \\\n",
       "0         cheap parts broke first hour unable repair  0.050000      0.511111   \n",
       "1  sure fun worked battery already installed mean...  0.218056      0.421759   \n",
       "2  got christmas gift already played hours since ...  0.160000      0.540000   \n",
       "3  nephew opened christmas eve make next morning ... -0.375000      0.375000   \n",
       "4  bought young brother loves every thing works p...  0.633333      0.766667   \n",
       "\n",
       "       nltk_sentiment  \n",
       "0  negative sentiment  \n",
       "1  positive sentiment  \n",
       "2  positive sentiment  \n",
       "3  negative sentiment  \n",
       "4  positive sentiment  "
      ]
     },
     "execution_count": 40,
     "metadata": {},
     "output_type": "execute_result"
    }
   ],
   "source": [
    "df.head()"
   ]
  },
  {
   "cell_type": "code",
   "execution_count": null,
   "metadata": {},
   "outputs": [],
   "source": []
  },
  {
   "cell_type": "code",
   "execution_count": 41,
   "metadata": {},
   "outputs": [],
   "source": [
    "lem = WordNetLemmatizer()\n",
    "tokenizer = nltk.tokenize.WhitespaceTokenizer()"
   ]
  },
  {
   "cell_type": "code",
   "execution_count": 42,
   "metadata": {},
   "outputs": [],
   "source": [
    "def lemmatize_review(reviews):\n",
    "    return [lem.lemmatize (word) for word in tokenizer.tokenize(reviews)]"
   ]
  },
  {
   "cell_type": "code",
   "execution_count": 43,
   "metadata": {},
   "outputs": [],
   "source": [
    "df['lemmatized_review'] = df['review_processed'].apply(lemmatize_review)"
   ]
  },
  {
   "cell_type": "code",
   "execution_count": 44,
   "metadata": {},
   "outputs": [],
   "source": [
    "#ML\n",
    "import sklearn\n",
    "from sklearn.model_selection import train_test_split\n",
    "from sklearn.feature_extraction.text import TfidfVectorizer, CountVectorizer\n",
    "from sklearn import naive_bayes\n"
   ]
  },
  {
   "cell_type": "code",
   "execution_count": 45,
   "metadata": {},
   "outputs": [],
   "source": [
    "#tdifvectorizer"
   ]
  },
  {
   "cell_type": "code",
   "execution_count": 46,
   "metadata": {},
   "outputs": [],
   "source": [
    "vectorizer= TfidfVectorizer(use_idf=True, lowercase=True, strip_accents='ascii', stop_words=stop_words)"
   ]
  },
  {
   "cell_type": "code",
   "execution_count": 47,
   "metadata": {},
   "outputs": [
    {
     "data": {
      "text/plain": [
       "(40, 441)"
      ]
     },
     "execution_count": 47,
     "metadata": {},
     "output_type": "execute_result"
    }
   ],
   "source": [
    "x = vectorizer.fit_transform(df['review_processed'])\n",
    "x.shape"
   ]
  },
  {
   "cell_type": "code",
   "execution_count": 48,
   "metadata": {},
   "outputs": [],
   "source": [
    "y = df['ratings']"
   ]
  },
  {
   "cell_type": "code",
   "execution_count": 49,
   "metadata": {},
   "outputs": [],
   "source": [
    "X_train, X_test, y_train, y_test = train_test_split(x, y, test_size=0.20, random_state=38)"
   ]
  },
  {
   "cell_type": "code",
   "execution_count": 50,
   "metadata": {},
   "outputs": [],
   "source": [
    "model=naive_bayes.MultinomialNB()"
   ]
  },
  {
   "cell_type": "code",
   "execution_count": 51,
   "metadata": {},
   "outputs": [
    {
     "data": {
      "text/plain": [
       "MultinomialNB()"
      ]
     },
     "execution_count": 51,
     "metadata": {},
     "output_type": "execute_result"
    }
   ],
   "source": [
    "model.fit(X_train, y_train)"
   ]
  },
  {
   "cell_type": "code",
   "execution_count": 52,
   "metadata": {},
   "outputs": [],
   "source": [
    "y_predict =model.predict(X_test)"
   ]
  },
  {
   "cell_type": "code",
   "execution_count": 53,
   "metadata": {},
   "outputs": [
    {
     "name": "stderr",
     "output_type": "stream",
     "text": [
      "C:\\Users\\Lala\\Anaconda3\\lib\\site-packages\\sklearn\\metrics\\_classification.py:1221: UndefinedMetricWarning: Precision and F-score are ill-defined and being set to 0.0 in labels with no predicted samples. Use `zero_division` parameter to control this behavior.\n",
      "  _warn_prf(average, modifier, msg_start, len(result))\n"
     ]
    }
   ],
   "source": [
    "from sklearn.metrics import classification_report\n",
    "clf=classification_report(y_test, y_predict)"
   ]
  },
  {
   "cell_type": "code",
   "execution_count": 54,
   "metadata": {},
   "outputs": [
    {
     "name": "stdout",
     "output_type": "stream",
     "text": [
      "              precision    recall  f1-score   support\n",
      "\n",
      "        1.0        0.71      1.00      0.83         5\n",
      "        2.0        0.00      0.00      0.00         1\n",
      "        3.0        0.00      0.00      0.00         1\n",
      "        5.0        1.00      1.00      1.00         1\n",
      "\n",
      "    accuracy                           0.75         8\n",
      "   macro avg       0.43      0.50      0.46         8\n",
      "weighted avg       0.57      0.75      0.65         8\n",
      "\n"
     ]
    }
   ],
   "source": [
    "print(clf)"
   ]
  },
  {
   "cell_type": "code",
   "execution_count": 52,
   "metadata": {},
   "outputs": [],
   "source": [
    "#count vectorizer"
   ]
  },
  {
   "cell_type": "code",
   "execution_count": 55,
   "metadata": {},
   "outputs": [],
   "source": [
    "cvectorizer= CountVectorizer(max_features = 400, stop_words=stop_words)"
   ]
  },
  {
   "cell_type": "code",
   "execution_count": 56,
   "metadata": {},
   "outputs": [
    {
     "data": {
      "text/plain": [
       "(40, 400)"
      ]
     },
     "execution_count": 56,
     "metadata": {},
     "output_type": "execute_result"
    }
   ],
   "source": [
    "x = cvectorizer.fit_transform(df['review_processed'])\n",
    "x.shape"
   ]
  },
  {
   "cell_type": "code",
   "execution_count": 57,
   "metadata": {},
   "outputs": [],
   "source": [
    "X_train, X_test, y_train, y_test = train_test_split(x, y, test_size=0.20, random_state=38)"
   ]
  },
  {
   "cell_type": "code",
   "execution_count": 58,
   "metadata": {},
   "outputs": [],
   "source": [
    "model=naive_bayes.MultinomialNB()\n",
    "model.fit(X_train, y_train)\n",
    "y_predict =model.predict(X_test)"
   ]
  },
  {
   "cell_type": "code",
   "execution_count": 59,
   "metadata": {},
   "outputs": [
    {
     "name": "stdout",
     "output_type": "stream",
     "text": [
      "              precision    recall  f1-score   support\n",
      "\n",
      "        1.0        1.00      0.60      0.75         5\n",
      "        2.0        0.00      0.00      0.00         1\n",
      "        3.0        0.00      0.00      0.00         1\n",
      "        4.0        0.00      0.00      0.00         0\n",
      "        5.0        0.25      1.00      0.40         1\n",
      "\n",
      "    accuracy                           0.50         8\n",
      "   macro avg       0.25      0.32      0.23         8\n",
      "weighted avg       0.66      0.50      0.52         8\n",
      "\n"
     ]
    },
    {
     "name": "stderr",
     "output_type": "stream",
     "text": [
      "C:\\Users\\Lala\\Anaconda3\\lib\\site-packages\\sklearn\\metrics\\_classification.py:1221: UndefinedMetricWarning: Precision and F-score are ill-defined and being set to 0.0 in labels with no predicted samples. Use `zero_division` parameter to control this behavior.\n",
      "  _warn_prf(average, modifier, msg_start, len(result))\n",
      "C:\\Users\\Lala\\Anaconda3\\lib\\site-packages\\sklearn\\metrics\\_classification.py:1221: UndefinedMetricWarning: Recall and F-score are ill-defined and being set to 0.0 in labels with no true samples. Use `zero_division` parameter to control this behavior.\n",
      "  _warn_prf(average, modifier, msg_start, len(result))\n"
     ]
    }
   ],
   "source": [
    "from sklearn.metrics import classification_report\n",
    "clf=classification_report(y_test, y_predict)\n",
    "print(clf)"
   ]
  },
  {
   "cell_type": "code",
   "execution_count": null,
   "metadata": {},
   "outputs": [],
   "source": []
  }
 ],
 "metadata": {
  "kernelspec": {
   "display_name": "Python 3",
   "language": "python",
   "name": "python3"
  },
  "language_info": {
   "codemirror_mode": {
    "name": "ipython",
    "version": 3
   },
   "file_extension": ".py",
   "mimetype": "text/x-python",
   "name": "python",
   "nbconvert_exporter": "python",
   "pygments_lexer": "ipython3",
   "version": "3.7.4"
  }
 },
 "nbformat": 4,
 "nbformat_minor": 2
}
